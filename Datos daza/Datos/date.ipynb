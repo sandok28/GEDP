{
 "cells": [
  {
   "cell_type": "code",
   "execution_count": 1,
   "metadata": {
    "collapsed": false
   },
   "outputs": [
    {
     "ename": "SyntaxError",
     "evalue": "Missing parentheses in call to 'print' (<ipython-input-1-a990192213e9>, line 43)",
     "output_type": "error",
     "traceback": [
      "\u001b[1;36m  File \u001b[1;32m\"<ipython-input-1-a990192213e9>\"\u001b[1;36m, line \u001b[1;32m43\u001b[0m\n\u001b[1;33m    print \"a1= %f \" % a1\u001b[0m\n\u001b[1;37m                  ^\u001b[0m\n\u001b[1;31mSyntaxError\u001b[0m\u001b[1;31m:\u001b[0m Missing parentheses in call to 'print'\n"
     ]
    }
   ],
   "source": [
    "import numpy as np\n",
    "import matplotlib.pyplot as plt\n",
    "import pylab as pl\n",
    "def Media(Arr):\n",
    "    n=10\n",
    "    x = 0.0\n",
    "    aux = 0.0\n",
    "    suma = 0.0\n",
    "    for i in range(n):\n",
    "        aux = Arr[i]\n",
    "        suma = suma + aux\n",
    "    x = suma/n\n",
    "    return x\n",
    "\n",
    "a0=0.0\n",
    "a1=0.0\n",
    "real=[0.8,1.4,0.6,3.9,7.8,6.1,0.3,7.7,2.3,8.9]\n",
    "x=[1.0,2.0,3.0,4.0,5.0,6.0,7.0,8.0,9.0,10.0]\n",
    "def regreLine(a,b,lbel1,lbel2,tite): \n",
    "    n=10\n",
    "    xy=0.0\n",
    "    xr=0.0\n",
    "    y=0.0\n",
    "    x2=0.0 \n",
    "    y2=0.0\n",
    "    a1=0.0\n",
    "    a0=0.0\n",
    "    r=0.0    \n",
    "    for i in range(0,10):\n",
    "        xy=xy + a[i]*b[i]\n",
    "\n",
    "    for i in range(0,10):\n",
    "        xr=xr+a[i]\n",
    "        y=y+b[i]\n",
    "    \n",
    "    for i in range(0,10):\n",
    "        x2=x2 + ((a[i])**2)\n",
    "        y2=y2 + ((b[i])**2)\n",
    "   \n",
    "    a1= (n*xy-xr*y)/(n*x2-xr**2)\n",
    "    a0= Media(b) - a1*Media(a)  \n",
    " \n",
    "    print \"a1= %f \" % a1\n",
    "    print \"a0= %f \" % a0\n",
    "    RL=[]\n",
    "    for i in range(10):\n",
    "        f=a0 + a1*a[i]\n",
    "        RL.append(f)\n",
    "    \n",
    "    pl.plot(a,RL,label=lbel1)\n",
    "    pl.plot(a,b,'o',label=lbel2)\n",
    "    pl.legend(loc=\"lower right\")\n",
    "    pl.xlabel(\"Valores en x\")\n",
    "    pl.ylabel(\"Funcion en x\")\n",
    "    pl.title(tite)\n",
    "    pl.grid(True)\n",
    "    pl.show()\n",
    "    \n",
    "    r=(n*xy-xr*y)/(np.sqrt((n*x2-xr**2))*np.sqrt((n*y2-y**2)))\n",
    "    print \"Coeficiente de correlacion : %f\" % r\n",
    "    \n",
    "regreLine(x,real,\"Regresion\",\"Funcion Real\",\"Pregunta 12\")\n",
    "\n",
    "\n",
    "\n",
    "def f1():\n",
    "    re1=0.8+((1.4-0.8)/(2-1))*(1.5-1)\n",
    "    print \"El valor de f(x) para x=1.5 por medio de interpolación linea es: %f\" % re1\n",
    "f1()"
   ]
  },
  {
   "cell_type": "code",
   "execution_count": null,
   "metadata": {
    "collapsed": true
   },
   "outputs": [],
   "source": []
  }
 ],
 "metadata": {
  "kernelspec": {
   "display_name": "Python 3",
   "language": "python",
   "name": "python3"
  },
  "language_info": {
   "codemirror_mode": {
    "name": "ipython",
    "version": 3
   },
   "file_extension": ".py",
   "mimetype": "text/x-python",
   "name": "python",
   "nbconvert_exporter": "python",
   "pygments_lexer": "ipython3",
   "version": "3.5.1"
  }
 },
 "nbformat": 4,
 "nbformat_minor": 0
}
