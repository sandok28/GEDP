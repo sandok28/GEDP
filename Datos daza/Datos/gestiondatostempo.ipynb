{
 "cells": [
  {
   "cell_type": "code",
   "execution_count": null,
   "metadata": {
    "collapsed": true
   },
   "outputs": [],
   "source": [
    "calcular f(6) de acuerdo con la ecuacion de la recta del metodo de \n",
    "regresion lineal por minimos cuadrados a partir de los siguientes \n",
    "datos\n",
    "X=[1,2,3,4,5]\n",
    "Y=[1,2,1.3,3.75,2.25]\n",
    "\n",
    "rta=3.335"
   ]
  },
  {
   "cell_type": "code",
   "execution_count": 147,
   "metadata": {
    "collapsed": false
   },
   "outputs": [
    {
     "name": "stdout",
     "output_type": "stream",
     "text": [
      "3.335\n"
     ]
    }
   ],
   "source": [
    "import math\n",
    "\n",
    "Matriz = np.array([[1,1], [2, 2], [3, 1.3], [4,3.75],[5,2.25]])\n",
    "VectorAux = []\n",
    "\n",
    "lo = 0\n",
    "aux = 0\n",
    "li2 = 0\n",
    "for j in range(2):\n",
    "    tamano = (Matriz.size) / 2\n",
    "\n",
    "    tamanoInt = int(tamano)\n",
    "\n",
    "    for i in range(tamanoInt):\n",
    "        lo = Matriz[i,j] + lo\n",
    "        if j == 0 :\n",
    "            li2 = (Matriz[i,j] ** 2) + li2\n",
    "        if j == 1 :\n",
    "            aux = Matriz[i,0] * Matriz[i,1] + aux\n",
    "        if i == (tamanoInt-1) :\n",
    "            VectorAux.append(lo)\n",
    "            \n",
    "            if j == 1 :\n",
    "                VectorAux.append(aux)\n",
    "                VectorAux.append(li2)\n",
    "            lo = 0\n",
    "\n",
    "aux1 = (VectorAux[1]/tamanoInt)-(((tamanoInt*VectorAux[2])-(VectorAux[0]*VectorAux[1]))/((tamanoInt*VectorAux[3])-(VectorAux[0])**2))*(VectorAux[0]/tamanoInt)\n",
    "\n",
    "y = aux1+((tamanoInt*VectorAux[2])-(VectorAux[0]*VectorAux[1]))/((tamanoInt*VectorAux[3])-(VectorAux[0])**2)*6 #valor de f(6)\n",
    "print(y)\n"
   ]
  },
  {
   "cell_type": "code",
   "execution_count": 55,
   "metadata": {
    "collapsed": false,
    "scrolled": true
   },
   "outputs": [
    {
     "ename": "SyntaxError",
     "evalue": "invalid syntax (<ipython-input-55-a12809ddf649>, line 1)",
     "output_type": "error",
     "traceback": [
      "\u001b[1;36m  File \u001b[1;32m\"<ipython-input-55-a12809ddf649>\"\u001b[1;36m, line \u001b[1;32m1\u001b[0m\n\u001b[1;33m    usando la regla de cramer hallar x1,x2,x3 resolviendo el siguiente\u001b[0m\n\u001b[1;37m            ^\u001b[0m\n\u001b[1;31mSyntaxError\u001b[0m\u001b[1;31m:\u001b[0m invalid syntax\n"
     ]
    }
   ],
   "source": [
    "usando la regla de cramer hallar x1,x2,x3 resolviendo el siguiente\n",
    "sistema de ecuaciones:\n",
    "    0.4x1+0.12x2-1.3x3=0.05\n",
    "    0.1x1-0.24x2+2x3=-0.32\n",
    "    0.3x1+1.6x2+0.3x3=0.15\n",
    "    \n",
    "rta=x1=-0.32601816\n",
    "    x2=0.17782101\n",
    "    x3=-0.12236057"
   ]
  },
  {
   "cell_type": "code",
   "execution_count": 71,
   "metadata": {
    "collapsed": false
   },
   "outputs": [
    {
     "name": "stdout",
     "output_type": "stream",
     "text": [
      "X1 = -0.3267385935265826\n",
      "X2 = 0.17821396074353307\n",
      "X3 = -0.1226309632133108\n"
     ]
    }
   ],
   "source": [
    "a11,a12,a13,b1=0.4,0.12,-1.3,0.05\n",
    "a21,a22,a23,b2=0.1,-0.24,2,-0.32\n",
    "a31,a32,a33,b3=0.3,1.6,0.3,0.15\n",
    "X=[]\n",
    "\n",
    "A1,A2,A3=round(a22*a33-a32*a23,2),round(a21*a33-a31*a23,2),round(a21*a32-a31*a22,2)\n",
    "X11,X12,X13=round(a22*a33-a32*a23,4),round(b2*a33-b3*a23,4),round(b2*a32-b3*a22,4)\n",
    "X21,X22,X23=round(b2*a33-b3*a23,4),round(a21*a33-a31*a23,4),round(a21*b3-a31*b2,4)\n",
    "X31,X32,X33=round(a22*b3-a32*b2,4),round(a21*b3-a31*b2,4),round(a21*a32-a31*a22,4)\n",
    "Determinante=round(a11*A1-a12*A2+a13*A3,4)\n",
    "DeterminanteX1=round(b1*X11-a12*X12+a13*X13,6)\n",
    "DeterminanteX2=round(a11*X21-b1*X22+a13*X23,6)\n",
    "DeterminanteX3=round(a11*X31-a12*X32+b1*X33,6)\n",
    "\n",
    "print (\"X1 =\",(DeterminanteX1/Determinante));\n",
    "print (\"X2 =\",(DeterminanteX2/Determinante));\n",
    "print (\"X3 =\",(DeterminanteX3/Determinante));"
   ]
  },
  {
   "cell_type": "code",
   "execution_count": 31,
   "metadata": {
    "collapsed": false
   },
   "outputs": [
    {
     "ename": "SyntaxError",
     "evalue": "invalid syntax (<ipython-input-31-1b1d34db2abe>, line 1)",
     "output_type": "error",
     "traceback": [
      "\u001b[1;36m  File \u001b[1;32m\"<ipython-input-31-1b1d34db2abe>\"\u001b[1;36m, line \u001b[1;32m1\u001b[0m\n\u001b[1;33m    una tecnica para ajustar datos a una curva\u001b[0m\n\u001b[1;37m              ^\u001b[0m\n\u001b[1;31mSyntaxError\u001b[0m\u001b[1;31m:\u001b[0m invalid syntax\n"
     ]
    }
   ],
   "source": [
    "una tecnica para ajustar datos a una curva\n",
    "rta=interpolacion cuadratica"
   ]
  },
  {
   "cell_type": "code",
   "execution_count": null,
   "metadata": {
    "collapsed": true
   },
   "outputs": [],
   "source": [
    "el metodo para resolver sistemas de ecuaciones algebraicas lineales\n",
    "rta=gauss simple"
   ]
  },
  {
   "cell_type": "code",
   "execution_count": null,
   "metadata": {
    "collapsed": true
   },
   "outputs": [],
   "source": [
    "calcule e^x parax=3 mediante interpolacion lineal tomando x0=1 \n",
    "f(x0)=e^1 y x1=5 f(x1)=e^5\n",
    "\n",
    "rta=75.565720"
   ]
  },
  {
   "cell_type": "code",
   "execution_count": 78,
   "metadata": {
    "collapsed": false
   },
   "outputs": [
    {
     "name": "stdout",
     "output_type": "stream",
     "text": [
      "75.56572046551781\n"
     ]
    }
   ],
   "source": [
    "import math\n",
    "\n",
    "x0=math.exp(1) \n",
    "x1=math.exp(5)  \n",
    "res=x0+((x1-x0)/(5-1))*(3-1)\n",
    "print(res)"
   ]
  },
  {
   "cell_type": "code",
   "execution_count": 43,
   "metadata": {
    "collapsed": false,
    "scrolled": true
   },
   "outputs": [
    {
     "ename": "SyntaxError",
     "evalue": "invalid syntax (<ipython-input-43-8d64dfb66b23>, line 1)",
     "output_type": "error",
     "traceback": [
      "\u001b[1;36m  File \u001b[1;32m\"<ipython-input-43-8d64dfb66b23>\"\u001b[1;36m, line \u001b[1;32m1\u001b[0m\n\u001b[1;33m    que es la suma de los datos(yi) dividida entre los numeros de\u001b[0m\n\u001b[1;37m         ^\u001b[0m\n\u001b[1;31mSyntaxError\u001b[0m\u001b[1;31m:\u001b[0m invalid syntax\n"
     ]
    }
   ],
   "source": [
    "que es la suma de los datos(yi) dividida entre los numeros de \n",
    "datos(n)\n",
    "\n",
    "media aritmetica"
   ]
  },
  {
   "cell_type": "code",
   "execution_count": null,
   "metadata": {
    "collapsed": true
   },
   "outputs": [],
   "source": [
    "calcular el coeficiente de correlacion entre los siguientes valores\n",
    "x=[1,2,3,4,5]\n",
    "y=[1,2,1.3,3.75,2.25]\n",
    "\n",
    "rta=0.62683275"
   ]
  },
  {
   "cell_type": "code",
   "execution_count": 107,
   "metadata": {
    "collapsed": false
   },
   "outputs": [
    {
     "name": "stdout",
     "output_type": "stream",
     "text": [
      "0.6268327489789575\n"
     ]
    }
   ],
   "source": [
    "import math\n",
    "\n",
    "MatrizA=[1,2,3,4,5]\n",
    "MatrizB=[1,2,1.3,3.75,2.25]\n",
    "\n",
    "sumaa=0; sumab=0;sumaab=0; sumaaa=0; sumabb=0; \n",
    "tamano=5\n",
    "for i in range(0,tamano,1):\n",
    "    sumaa=sumaa+MatrizA[i]\n",
    "    sumab=sumab+MatrizB[i] \n",
    "    sumaab=sumaab+(MatrizA[i]*MatrizB[i])  \n",
    "    sumaaa=sumaaa+(MatrizA[i]*MatrizA[i]) \n",
    "    sumabb=sumabb+(MatrizB[i]*MatrizB[i])\n",
    "res=((tamano*sumaab)-(sumaa*sumab))/(math.sqrt((tamano*sumaaa)-(sumaa*sumaa))*math.sqrt((tamano*sumabb)-(sumab*sumab)))\n",
    "print (res)\n"
   ]
  },
  {
   "cell_type": "code",
   "execution_count": null,
   "metadata": {
    "collapsed": true
   },
   "outputs": [],
   "source": [
    "cuan es el valor de la media aritmetica y la desviacion estadar de\n",
    "la siguiente secuencia de numeros\n",
    "x=[64,54.2,65.1,58.3,55.7,60.2,62.5,67.9,66.6,55.8,59.2]\n",
    "\n",
    "rta=60.8636363636 y 4.68364659796\n",
    "\n"
   ]
  },
  {
   "cell_type": "code",
   "execution_count": 99,
   "metadata": {
    "collapsed": false
   },
   "outputs": [
    {
     "name": "stdout",
     "output_type": "stream",
     "text": [
      "60.86363636363637  y  4.683646597956068\n"
     ]
    }
   ],
   "source": [
    "import math\n",
    "\n",
    "Matriz=([64,54.2,65.1,58.3,55.7,60.2,62.5,67.9,66.6,55.8,59.2])\n",
    "\n",
    "suma=0;\n",
    "media=0;\n",
    "varianza=0;\n",
    "desviacion=0 ;\n",
    "tamano = 11 # numero de datos\n",
    "for i in range (tamano):\n",
    "    suma=suma+Matriz[i]\n",
    "media=suma/tamano\n",
    "for j in range(tamano):\n",
    "    espacio=0;\n",
    "    espacio=math.pow(Matriz[j]-media,2)\n",
    "    varianza=varianza+espacio\n",
    "varianza=varianza/(tamano-1)\n",
    "desviacion=math.sqrt(varianza)\n",
    "\n",
    "print(media,\" y \",desviacion)"
   ]
  },
  {
   "cell_type": "code",
   "execution_count": null,
   "metadata": {
    "collapsed": true
   },
   "outputs": [],
   "source": [
    "calcular los parametros a0 y a1 de la linea recta de l metodo de\n",
    "regresion lineal por minimos cuadrados a partir de los siguientes\n",
    "datos\n",
    "x=[1,2,3,4,5]\n",
    "y=[1,2,1.3,3.75,2.25]\n",
    "\n",
    "rta= 0.785 y 0.425\n"
   ]
  },
  {
   "cell_type": "code",
   "execution_count": 127,
   "metadata": {
    "collapsed": false
   },
   "outputs": [
    {
     "name": "stdout",
     "output_type": "stream",
     "text": [
      "0.425\n",
      "0.785\n"
     ]
    }
   ],
   "source": [
    "import numpy as np\n",
    "import math\n",
    "\n",
    "Matriz = np.array([[1,1], [2, 2], [3, 1.3], [4,3.75],[5,2.25]])\n",
    "VectorAux=[]\n",
    "a=0\n",
    "cont=0\n",
    "lo=0\n",
    "aux=0\n",
    "li2=0\n",
    "\n",
    "for j in range(2):\n",
    "    tamano=(Matriz.size)/2\n",
    "\n",
    "    tamanoInt=int(tamano)\n",
    "\n",
    "    for i in range(tamanoInt):\n",
    "        lo=Matriz[i,j]+lo\n",
    "        if j==0:\n",
    "            li2=(Matriz[i,j]**2)+li2\n",
    "        if j==1:\n",
    "            aux=Matriz[i,0]*Matriz[i,1]+aux\n",
    "        if i==(rr-1):\n",
    "            VectorAux.append(lo)\n",
    "            \n",
    "            if j==1:\n",
    "                VectorAux.append(aux)\n",
    "                VectorAux.append(li2)\n",
    "            lo=0\n",
    "            \n",
    "a1=((tamanoInt*VectorAux[2])-(VectorAux[0]*VectorAux[1]))/((tamanoInt*VectorAux[3])-(VectorAux[0])**2)\n",
    "a0=(VectorAux[1]/tamanoInt)-a1*(VectorAux[0]/tamanoInt)\n",
    "\n",
    "print (a1)\n",
    "print (a0)\n"
   ]
  },
  {
   "cell_type": "code",
   "execution_count": null,
   "metadata": {
    "collapsed": true
   },
   "outputs": [],
   "source": [
    "calcule e^x parax=3 mediante interpolacion cuadratica tomando x0=2 \n",
    "f(x0)=e^2 y x1=4 f(x1)=e^4 y x2=5 f(x2)=e^5 \n",
    "\n",
    "rta=7.590116"
   ]
  },
  {
   "cell_type": "code",
   "execution_count": 140,
   "metadata": {
    "collapsed": false
   },
   "outputs": [
    {
     "name": "stdout",
     "output_type": "stream",
     "text": [
      "7.590115698595586\n"
     ]
    }
   ],
   "source": [
    "import math\n",
    "\n",
    "VarA=math.exp(2) \n",
    "VarB=math.exp(4) \n",
    "VarC=math.exp(5) \n",
    "\n",
    "res1 = (VarB-VarA)/(4-2)\n",
    "res2 = (((VarC-VarB)/(5-4))-res1)/(5-2)\n",
    "res3 = VarA+res1*(3-2)+res2*(3-2)*(3-4)\n",
    "\n",
    "print(res3)\n"
   ]
  },
  {
   "cell_type": "code",
   "execution_count": null,
   "metadata": {
    "collapsed": true
   },
   "outputs": [],
   "source": [
    "calcula rlos valores del determinante para la siguiente matriz de \n",
    "tamaño 3x3 A=[[4,5,6],[11,0,3],[7,9,2]]\n",
    "\n",
    "rta=481"
   ]
  },
  {
   "cell_type": "code",
   "execution_count": 142,
   "metadata": {
    "collapsed": false
   },
   "outputs": [
    {
     "name": "stdout",
     "output_type": "stream",
     "text": [
      "481\n"
     ]
    }
   ],
   "source": [
    "Matriz=[4,5,6],[11,0,3],[7,9,2]\n",
    "aux1 = ((Matriz[1][1]*Matriz[2][2])-(Matriz[1][2]*Matriz[2][1]))*Matriz[0][0]\n",
    "aux2 = (Matriz[1][0]*Matriz[2][2]-Matriz[1][2]*Matriz[2][0])*Matriz[0][1]\n",
    "aux3 = (Matriz[1][0]*Matriz[2][1]-Matriz[1][1]*Matriz[2][0])*Matriz[0][2]\n",
    "det = aux1-aux2+aux3\n",
    "print (det)"
   ]
  },
  {
   "cell_type": "code",
   "execution_count": null,
   "metadata": {
    "collapsed": true
   },
   "outputs": [],
   "source": [
    "x=[1,2,3,4,5,6,7,8,9,10]\n",
    "y=[0.8,1.4,0.6,3.9,7.8,6.1,0.3,7.7,2.3,8.9]\n",
    "\n",
    "1: calcular la funcion de la recta correspondiente por regresion\n",
    "    lineal usando el metodo de minimos cuadrados\n",
    "2: graficar los puntos y la recta de la regresion lineal \n",
    "3: calcular el coeficiente de correlacion para los mismos puntos \n",
    "    en x del modelo de la regresion lineal y los valores medios\n",
    "4: calcular el valor de f(x)para x=1.5 por medio de interpolaion\n",
    "    lineal usando los valores de x0=1 y x1=2\n",
    "    "
   ]
  },
  {
   "cell_type": "code",
   "execution_count": 148,
   "metadata": {
    "collapsed": false
   },
   "outputs": [
    {
     "name": "stdout",
     "output_type": "stream",
     "text": [
      "a1=   0.6193939393939388\n",
      "a0=   0.5733333333333368\n",
      "Coeficiente de correlacion :  0.557881538955\n",
      "El valor de f(x) para x=1.5 por medio de interpolación linea es:  1.1\n"
     ]
    }
   ],
   "source": [
    "import numpy as np\n",
    "import matplotlib.pyplot as plt\n",
    "import pylab as pl\n",
    "def Media(Arr):\n",
    "    n=10\n",
    "    x = 0.0\n",
    "    aux = 0.0\n",
    "    suma = 0.0\n",
    "    for i in range(n):\n",
    "        aux = Arr[i]\n",
    "        suma = suma + aux\n",
    "    x = suma/n\n",
    "    return x\n",
    "\n",
    "a0=0.0\n",
    "a1=0.0\n",
    "real=[0.8,1.4,0.6,3.9,7.8,6.1,0.3,7.7,2.3,8.9]\n",
    "x=[1.0,2.0,3.0,4.0,5.0,6.0,7.0,8.0,9.0,10.0]\n",
    "def regreLine(a,b,lbel1,lbel2,tite): \n",
    "    n=10\n",
    "    xy=0.0\n",
    "    xr=0.0\n",
    "    y=0.0\n",
    "    x2=0.0 \n",
    "    y2=0.0\n",
    "    a1=0.0\n",
    "    a0=0.0\n",
    "    r=0.0    \n",
    "    for i in range(0,10):\n",
    "        xy=xy + a[i]*b[i]\n",
    "\n",
    "    for i in range(0,10):\n",
    "        xr=xr+a[i]\n",
    "        y=y+b[i]\n",
    "    \n",
    "    for i in range(0,10):\n",
    "        x2=x2 + ((a[i])**2)\n",
    "        y2=y2 + ((b[i])**2)\n",
    "   \n",
    "    a1= (n*xy-xr*y)/(n*x2-xr**2)\n",
    "    a0= Media(b) - a1*Media(a)  \n",
    " \n",
    "    print (\"a1=  \" , a1)\n",
    "    print (\"a0=  \" , a0)\n",
    "    RL=[]\n",
    "    for i in range(10):\n",
    "        f=a0 + a1*a[i]\n",
    "        RL.append(f)\n",
    "    \n",
    "    pl.plot(a,RL,label=lbel1)\n",
    "    pl.plot(a,b,'o',label=lbel2)\n",
    "    pl.legend(loc=\"lower right\")\n",
    "    pl.xlabel(\"Valores en x\")\n",
    "    pl.ylabel(\"Funcion en x\")\n",
    "    pl.title(tite)\n",
    "    pl.grid(True)\n",
    "    pl.show()\n",
    "    \n",
    "    r=(n*xy-xr*y)/(np.sqrt((n*x2-xr**2))*np.sqrt((n*y2-y**2)))\n",
    "    print (\"Coeficiente de correlacion : \" , r)\n",
    "    \n",
    "regreLine(x,real,\"Regresion\",\"Funcion Real\",\"Pregunta 12\")\n",
    "\n",
    "\n",
    "\n",
    "def f1():\n",
    "    re1=0.8+((1.4-0.8)/(2-1))*(1.5-1)\n",
    "    print (\"El valor de f(x) para x=1.5 por medio de interpolación linea es: \", re1)\n",
    "f1()\n"
   ]
  },
  {
   "cell_type": "code",
   "execution_count": null,
   "metadata": {
    "collapsed": true
   },
   "outputs": [],
   "source": []
  },
  {
   "cell_type": "code",
   "execution_count": null,
   "metadata": {
    "collapsed": true
   },
   "outputs": [],
   "source": []
  }
 ],
 "metadata": {
  "kernelspec": {
   "display_name": "Python 3",
   "language": "python",
   "name": "python3"
  },
  "language_info": {
   "codemirror_mode": {
    "name": "ipython",
    "version": 3
   },
   "file_extension": ".py",
   "mimetype": "text/x-python",
   "name": "python",
   "nbconvert_exporter": "python",
   "pygments_lexer": "ipython3",
   "version": "3.5.1"
  }
 },
 "nbformat": 4,
 "nbformat_minor": 0
}
